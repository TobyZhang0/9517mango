{
 "cells": [
  {
   "cell_type": "code",
   "id": "initial_id",
   "metadata": {
    "collapsed": true,
    "ExecuteTime": {
     "end_time": "2025-04-09T06:35:46.755072Z",
     "start_time": "2025-04-09T06:35:46.703352Z"
    }
   },
   "source": [
    "from dataset import create_dataloaders\n",
    "\n",
    "# 简单使用\n",
    "train_loader, val_loader, test_loader, classes = create_dataloaders('Aerial_Landscapes')\n",
    "\n",
    "# 自定义参数\n",
    "train_loader, val_loader, test_loader, classes = create_dataloaders(\n",
    "    root_dir='Aerial_Landscapes',\n",
    "    batch_size=32,\n",
    "    split_ratio=[0.7, 0.15, 0.15],\n",
    "    augmentation_strategy='extensive',\n",
    "    random_seed=42,\n",
    "    verbose=True\n",
    ")"
   ],
   "outputs": [
    {
     "name": "stdout",
     "output_type": "stream",
     "text": [
      "创建数据加载器，batch_size=32, split_ratio=[0.6, 0.2, 0.2], augmentation=default...\n",
      "数据集大小 - 训练: 7200, 验证: 2400, 测试: 2400\n",
      "训练集类别分布:\n",
      "- Agriculture: 480张图像\n",
      "- Airport: 480张图像\n",
      "- Beach: 480张图像\n",
      "- City: 480张图像\n",
      "- Desert: 480张图像\n",
      "- Forest: 480张图像\n",
      "- Grassland: 480张图像\n",
      "- Highway: 480张图像\n",
      "- Lake: 480张图像\n",
      "- Mountain: 480张图像\n",
      "- Parking: 480张图像\n",
      "- Port: 480张图像\n",
      "- Railway: 480张图像\n",
      "- Residential: 480张图像\n",
      "- River: 480张图像\n",
      "创建数据加载器，batch_size=32, split_ratio=[0.7, 0.15, 0.15], augmentation=extensive...\n",
      "数据集大小 - 训练: 8400, 验证: 1800, 测试: 1800\n",
      "训练集类别分布:\n",
      "- Agriculture: 560张图像\n",
      "- Airport: 560张图像\n",
      "- Beach: 560张图像\n",
      "- City: 560张图像\n",
      "- Desert: 560张图像\n",
      "- Forest: 560张图像\n",
      "- Grassland: 560张图像\n",
      "- Highway: 560张图像\n",
      "- Lake: 560张图像\n",
      "- Mountain: 560张图像\n",
      "- Parking: 560张图像\n",
      "- Port: 560张图像\n",
      "- Railway: 560张图像\n",
      "- Residential: 560张图像\n",
      "- River: 560张图像\n"
     ]
    }
   ],
   "execution_count": 2
  },
  {
   "metadata": {
    "ExecuteTime": {
     "end_time": "2025-04-09T06:36:16.317410Z",
     "start_time": "2025-04-09T06:36:16.312334Z"
    }
   },
   "cell_type": "code",
   "source": "train_loader",
   "id": "12a1b9be60549f55",
   "outputs": [
    {
     "data": {
      "text/plain": [
       "<torch.utils.data.dataloader.DataLoader at 0x1d1c5672060>"
      ]
     },
     "execution_count": 3,
     "metadata": {},
     "output_type": "execute_result"
    }
   ],
   "execution_count": 3
  }
 ],
 "metadata": {
  "kernelspec": {
   "display_name": "Python 3",
   "language": "python",
   "name": "python3"
  },
  "language_info": {
   "codemirror_mode": {
    "name": "ipython",
    "version": 2
   },
   "file_extension": ".py",
   "mimetype": "text/x-python",
   "name": "python",
   "nbconvert_exporter": "python",
   "pygments_lexer": "ipython2",
   "version": "2.7.6"
  }
 },
 "nbformat": 4,
 "nbformat_minor": 5
}
